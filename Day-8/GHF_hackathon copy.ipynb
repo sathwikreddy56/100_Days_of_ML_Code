{
 "metadata": {
  "language_info": {
   "codemirror_mode": {
    "name": "ipython",
    "version": 3
   },
   "file_extension": ".py",
   "mimetype": "text/x-python",
   "name": "python",
   "nbconvert_exporter": "python",
   "pygments_lexer": "ipython3",
   "version": "3.8.5"
  },
  "orig_nbformat": 2,
  "kernelspec": {
   "name": "python385jvsc74a57bd0916dbcbb3f70747c44a77c7bcd40155683ae19c65e1c03b4aa3499c5328201f1",
   "display_name": "Python 3.8.5 64-bit"
  },
  "metadata": {
   "interpreter": {
    "hash": "916dbcbb3f70747c44a77c7bcd40155683ae19c65e1c03b4aa3499c5328201f1"
   }
  }
 },
 "nbformat": 4,
 "nbformat_minor": 2,
 "cells": [
  {
   "source": [
    "import pandas as pd\n",
    "import seaborn as sns\n",
    "import numpy as np\n",
    "from matplotlib import pyplot as plt\n"
   ],
   "cell_type": "code",
   "metadata": {},
   "execution_count": 1,
   "outputs": []
  },
  {
   "cell_type": "code",
   "execution_count": 17,
   "metadata": {},
   "outputs": [
    {
     "output_type": "execute_result",
     "data": {
      "text/plain": [
       "   Id   income  age  experience  married  house_ownership  car_ownership  \\\n",
       "0   1  1303835   23           3        0                0              0   \n",
       "1   2  7574516   40          10        0                0              0   \n",
       "2   3  3991815   66           4        1                0              0   \n",
       "3   4  6256451   41           2        0                0              1   \n",
       "4   5  5768871   47          11        0                0              0   \n",
       "\n",
       "   profession  city  state  current_job_years  current_house_years  risk_flag  \n",
       "0           0     0      0                  3                   13          0  \n",
       "1           1     1      1                  9                   13          0  \n",
       "2           2     2      2                  4                   10          0  \n",
       "3           1     3      3                  2                   12          1  \n",
       "4           3     4      4                  3                   14          1  "
      ],
      "text/html": "<div>\n<style scoped>\n    .dataframe tbody tr th:only-of-type {\n        vertical-align: middle;\n    }\n\n    .dataframe tbody tr th {\n        vertical-align: top;\n    }\n\n    .dataframe thead th {\n        text-align: right;\n    }\n</style>\n<table border=\"1\" class=\"dataframe\">\n  <thead>\n    <tr style=\"text-align: right;\">\n      <th></th>\n      <th>Id</th>\n      <th>income</th>\n      <th>age</th>\n      <th>experience</th>\n      <th>married</th>\n      <th>house_ownership</th>\n      <th>car_ownership</th>\n      <th>profession</th>\n      <th>city</th>\n      <th>state</th>\n      <th>current_job_years</th>\n      <th>current_house_years</th>\n      <th>risk_flag</th>\n    </tr>\n  </thead>\n  <tbody>\n    <tr>\n      <th>0</th>\n      <td>1</td>\n      <td>1303835</td>\n      <td>23</td>\n      <td>3</td>\n      <td>0</td>\n      <td>0</td>\n      <td>0</td>\n      <td>0</td>\n      <td>0</td>\n      <td>0</td>\n      <td>3</td>\n      <td>13</td>\n      <td>0</td>\n    </tr>\n    <tr>\n      <th>1</th>\n      <td>2</td>\n      <td>7574516</td>\n      <td>40</td>\n      <td>10</td>\n      <td>0</td>\n      <td>0</td>\n      <td>0</td>\n      <td>1</td>\n      <td>1</td>\n      <td>1</td>\n      <td>9</td>\n      <td>13</td>\n      <td>0</td>\n    </tr>\n    <tr>\n      <th>2</th>\n      <td>3</td>\n      <td>3991815</td>\n      <td>66</td>\n      <td>4</td>\n      <td>1</td>\n      <td>0</td>\n      <td>0</td>\n      <td>2</td>\n      <td>2</td>\n      <td>2</td>\n      <td>4</td>\n      <td>10</td>\n      <td>0</td>\n    </tr>\n    <tr>\n      <th>3</th>\n      <td>4</td>\n      <td>6256451</td>\n      <td>41</td>\n      <td>2</td>\n      <td>0</td>\n      <td>0</td>\n      <td>1</td>\n      <td>1</td>\n      <td>3</td>\n      <td>3</td>\n      <td>2</td>\n      <td>12</td>\n      <td>1</td>\n    </tr>\n    <tr>\n      <th>4</th>\n      <td>5</td>\n      <td>5768871</td>\n      <td>47</td>\n      <td>11</td>\n      <td>0</td>\n      <td>0</td>\n      <td>0</td>\n      <td>3</td>\n      <td>4</td>\n      <td>4</td>\n      <td>3</td>\n      <td>14</td>\n      <td>1</td>\n    </tr>\n  </tbody>\n</table>\n</div>"
     },
     "metadata": {},
     "execution_count": 17
    }
   ],
   "source": [
    "#importing training data from the csv file\n",
    "train_data = pd.read_csv('../DATASETS/Hackathons/GH hackathon(april 16)/Training Data.csv')\n",
    "# obtaining a numeric representation of string columns\n",
    "train_data[\"profession\"]=pd.factorize(train_data.profession)[0]\n",
    "train_data[\"city\"]=pd.factorize(train_data.city)[0]\n",
    "train_data[\"state\"]=pd.factorize(train_data.state)[0]\n",
    "train_data[\"married\"]=pd.factorize(train_data.married)[0]\n",
    "train_data[\"house_ownership\"]=pd.factorize(train_data.house_ownership)[0]\n",
    "train_data[\"car_ownership\"]=pd.factorize(train_data.car_ownership)[0]\n",
    "# train_data=train_data.drop(\"city\",axis=1)\n",
    "# train_data=train_data.drop(\"state\",axis=1)\n",
    "train_data.head()"
   ]
  },
  {
   "cell_type": "code",
   "execution_count": 165,
   "metadata": {},
   "outputs": [
    {
     "output_type": "stream",
     "name": "stdout",
     "text": [
      "[3607, 598] ,\n",
      "[3660, 770] ,\n",
      "[3786, 536] ,\n",
      "[3695, 631] ,\n",
      "[3959, 584] ,\n",
      "[3437, 719] ,\n",
      "[4477, 720] ,\n",
      "[3299, 602] ,\n",
      "[3540, 569] ,\n",
      "[3879, 589] ,\n",
      "[3726, 531] ,\n",
      "[3336, 498] ,\n",
      "[4202, 719] ,\n",
      "[4060, 354] ,\n",
      "[4131, 513] ,\n",
      "[2989, 454] ,\n",
      "[3627, 526] ,\n",
      "[3303, 490] ,\n",
      "[3383, 417] ,\n",
      "[3863, 370] ,\n",
      "[4257, 570] ,\n",
      "[3615, 519] ,\n",
      "[3770, 436] ,\n",
      "[3234, 388] ,\n",
      "[4217, 589] ,\n",
      "[3084, 543] ,\n",
      "[3867, 616] ,\n",
      "[4389, 578] ,\n",
      "[3760, 443] ,\n",
      "[4074, 550] ,\n",
      "[3012, 385] ,\n",
      "[2827, 370] ,\n",
      "[3989, 501] ,\n",
      "[4125, 660] ,\n",
      "[3981, 582] ,\n",
      "[3829, 515] ,\n",
      "[3863, 531] ,\n",
      "[3905, 463] ,\n",
      "[3907, 591] ,\n",
      "[3972, 532] ,\n",
      "[3672, 563] ,\n",
      "[3847, 464] ,\n",
      "[3431, 511] ,\n",
      "[3758, 374] ,\n",
      "[3457, 512] ,\n",
      "[4355, 737] ,\n",
      "[3588, 407] ,\n",
      "[4321, 451] ,\n",
      "[4120, 497] ,\n",
      "[3770, 481] ,\n",
      "[3691, 458] ,\n",
      "[3964, 570] ,\n",
      "[3152, 417] ,\n",
      "[3525, 429] ,\n",
      "[3434, 395] ,\n",
      "[3919, 666] ,\n",
      "[3457, 459] ,\n",
      "[3915, 540] ,\n",
      "[3992, 513] ,\n"
     ]
    }
   ],
   "source": [
    "data = pd.read_csv('../DATASETS/Hackathons/GH hackathon(april 16)/Training Data.csv')\n",
    "#drop \n",
    "#profession\n",
    "out = set(data['age'].values.tolist())\n",
    "for i in out:\n",
    "    accepted= data[(data['age']==i )&(data['risk_flag']==0)]\n",
    "    rejected= data[(data['age']==i )&(data['risk_flag']==1)]\n",
    "    temp =[]\n",
    "    temp.append(accepted.shape[0])\n",
    "    temp.append(rejected.shape[0])\n",
    "    print(temp,\",\")\n"
   ]
  },
  {
   "cell_type": "code",
   "execution_count": 146,
   "metadata": {},
   "outputs": [
    {
     "output_type": "stream",
     "name": "stdout",
     "text": [
      "45390 , 6483\n"
     ]
    }
   ],
   "source": [
    "import numpy as np\n",
    "import pandas as pd\n",
    "data = pd.read_csv('../DATASETS/Hackathons/GH hackathon(april 16)/Training Data.csv')\n",
    "accepted= data[(data['current_house_years']==11 )&(data['risk_flag']==0)]\n",
    "rejected= data[(data['current_house_years']==11 )&(data['risk_flag']==1)]\n",
    "print(accepted.shape[0],\",\",rejected.shape[0])\n",
    "# print(rejected.shape[0])"
   ]
  },
  {
   "cell_type": "code",
   "execution_count": 168,
   "metadata": {},
   "outputs": [
    {
     "output_type": "stream",
     "name": "stdout",
     "text": [
      "married =  0.00033582246407781735\nhouse_rented =  0.0005640098080920142\ncar_ownership =  0.00042382210578073565\nincome_500000 =  0.00010349438299317448\nage =  0.0022114825933586824\n"
     ]
    }
   ],
   "source": [
    "from __future__ import division\n",
    "from math import log\n",
    "def entropy(pi):\n",
    "    total = 0\n",
    "    for p in pi:\n",
    "        p = p / sum(pi)\n",
    "        if p != 0:\n",
    "            total += p * log(p, 2)\n",
    "        else:\n",
    "            total += 0\n",
    "    total *= -1\n",
    "    return total\n",
    "def gain(d, a):\n",
    "    total = 0\n",
    "    for v in a:\n",
    "        total += sum(v) / sum(d) * entropy(v)\n",
    "\n",
    "    gain = entropy(d) - total\n",
    "    return gain\n",
    "risk_flag = [221004, 30996] # accepted, rejected\n",
    "\n",
    "married = [\n",
    "    [23092 , 2636],  # married\n",
    "    [197912, 28360]  # single\n",
    "]\n",
    "house_rented = [\n",
    "    [202777 , 29121],  # rented\n",
    "    [11758, 1160],  # owned\n",
    "    [6469, 715]  # norent_noown\n",
    "]\n",
    "car_ownership = [\n",
    "    [ 67565  , 8435 ],  # yes\n",
    "    [ 153439 , 22561]  # no\n",
    "]\n",
    "income_5000000 = [\n",
    "    [ 110593 , 15449 ],  # >=50 00 000\n",
    "    [ 110411 , 15547]  # no\n",
    "]\n",
    "income_500000= [\n",
    "    [ 210100 , 29215 ],  # >=50 00 000\n",
    "    [ 10904 , 1781]  # no\n",
    "]\n",
    "current_house_years = [\n",
    "    [ 42592 , 6082 ],  # ==10\n",
    "    [ 45390 , 6483 ],  # ==11\n",
    "    [ 45487 , 6304 ],  # ==12\n",
    "    [ 44477 , 6182 ],  # ==13 \n",
    "    [ 43058 , 5945 ]  # ==14\n",
    "]\n",
    "age = [\n",
    "[3607, 598] ,\n",
    "[3660, 770] ,\n",
    "[3786, 536] ,\n",
    "[3695, 631] ,\n",
    "[3959, 584] ,\n",
    "[3437, 719] ,\n",
    "[4477, 720] ,\n",
    "[3299, 602] ,\n",
    "[3540, 569] ,\n",
    "[3879, 589] ,\n",
    "[3726, 531] ,\n",
    "[3336, 498] ,\n",
    "[4202, 719] ,\n",
    "[4060, 354] ,\n",
    "[4131, 513] ,\n",
    "[2989, 454] ,\n",
    "[3627, 526] ,\n",
    "[3303, 490] ,\n",
    "[3383, 417] ,\n",
    "[3863, 370] ,\n",
    "[4257, 570] ,\n",
    "[3615, 519] ,\n",
    "[3770, 436] ,\n",
    "[3234, 388] ,\n",
    "[4217, 589] ,\n",
    "[3084, 543] ,\n",
    "[3867, 616] ,\n",
    "[4389, 578] ,\n",
    "[3760, 443] ,\n",
    "[4074, 550] ,\n",
    "[3012, 385] ,\n",
    "[2827, 370] ,\n",
    "[3989, 501] ,\n",
    "[4125, 660] ,\n",
    "[3981, 582] ,\n",
    "[3829, 515] ,\n",
    "[3863, 531] ,\n",
    "[3905, 463] ,\n",
    "[3907, 591] ,\n",
    "[3972, 532] ,\n",
    "[3672, 563] ,\n",
    "[3847, 464] ,\n",
    "[3431, 511] ,\n",
    "[3758, 374] ,\n",
    "[3457, 512] ,\n",
    "[4355, 737] ,\n",
    "[3588, 407] ,\n",
    "[4321, 451] ,\n",
    "[4120, 497] ,\n",
    "[3770, 481] ,\n",
    "[3691, 458] ,\n",
    "[3964, 570] ,\n",
    "[3152, 417] ,\n",
    "[3525, 429] ,\n",
    "[3434, 395] ,\n",
    "[3919, 666] ,\n",
    "[3457, 459] ,\n",
    "[3915, 540] ,\n",
    "[3992, 513] ]\n",
    "print(\"married = \" , gain(risk_flag, married))\n",
    "print(\"house_rented = \",gain(risk_flag, house_rented))\n",
    "print(\"car_ownership = \",gain(risk_flag, car_ownership))\n",
    "# print(\"income_5000000 = \",gain(risk_flag, income_5000000))\n",
    "print(\"income_500000 = \",gain(risk_flag, income_500000))\n",
    "# print(\"current_house_years = \",gain(risk_flag, current_house_years))\n",
    "\n",
    "print(\"age = \",gain(risk_flag, age))"
   ]
  },
  {
   "cell_type": "code",
   "execution_count": null,
   "metadata": {},
   "outputs": [],
   "source": [
    "\n",
    "\n",
    "def gini(rows):\n",
    "    \"\"\"Calculate the Gini Impurity for a list of rows.\n",
    "\n",
    "    There are a few different ways to do this, I thought this one was\n",
    "    the most concise. See:\n",
    "    https://en.wikipedia.org/wiki/Decision_tree_learning#Gini_impurity\n",
    "    \"\"\"\n",
    "    counts = class_counts(rows)\n",
    "    impurity = 1\n",
    "    for lbl in counts:\n",
    "        prob_of_lbl = counts[lbl] / float(len(rows))\n",
    "        impurity -= prob_of_lbl**2\n",
    "    return impurity\n",
    "\n",
    "def info_gain(left, right, current_uncertainty):\n",
    "    \"\"\"Information Gain.\n",
    "\n",
    "    The uncertainty of the starting node, minus the weighted impurity of\n",
    "    two child nodes.\n",
    "    \"\"\"\n",
    "    p = float(len(left)) / (len(left) + len(right))\n",
    "    return current_uncertainty - p * gini(left) - (1 - p) * gini(right)"
   ]
  },
  {
   "cell_type": "code",
   "execution_count": 3,
   "metadata": {},
   "outputs": [],
   "source": [
    "#importing model \n",
    "from sklearn import tree\n",
    "from sklearn.ensemble import RandomForestClassifier\n",
    "#droping output field and creating input and outputs for training data \n",
    "xtrain=train_data.drop(\"risk_flag\",axis=1)\n",
    "ytrain=train_data[\"risk_flag\"]\n",
    "#initializing decision tree\n",
    "clf = RandomForestClassifier(n_estimators=10)\n",
    "# clf = tree.DecisionTreeClassifier()\n",
    "#fitting the model\n",
    "clf = clf.fit(xtrain, ytrain)"
   ]
  },
  {
   "cell_type": "code",
   "execution_count": 4,
   "metadata": {},
   "outputs": [
    {
     "output_type": "execute_result",
     "data": {
      "text/plain": [
       "   id   income  age  experience  married  house_ownership  car_ownership  \\\n",
       "0   1  7393090   59          19        0                0              0   \n",
       "1   2  1215004   25           5        0                0              0   \n",
       "2   3  8901342   50          12        0                0              0   \n",
       "3   4  1944421   49           9        1                0              1   \n",
       "4   5    13429   25          18        0                0              1   \n",
       "\n",
       "   profession  current_job_years  current_house_years  \n",
       "0           0                  4                   13  \n",
       "1           1                  5                   10  \n",
       "2           2                  9                   14  \n",
       "3           3                  3                   12  \n",
       "4           4                 13                   11  "
      ],
      "text/html": "<div>\n<style scoped>\n    .dataframe tbody tr th:only-of-type {\n        vertical-align: middle;\n    }\n\n    .dataframe tbody tr th {\n        vertical-align: top;\n    }\n\n    .dataframe thead th {\n        text-align: right;\n    }\n</style>\n<table border=\"1\" class=\"dataframe\">\n  <thead>\n    <tr style=\"text-align: right;\">\n      <th></th>\n      <th>id</th>\n      <th>income</th>\n      <th>age</th>\n      <th>experience</th>\n      <th>married</th>\n      <th>house_ownership</th>\n      <th>car_ownership</th>\n      <th>profession</th>\n      <th>current_job_years</th>\n      <th>current_house_years</th>\n    </tr>\n  </thead>\n  <tbody>\n    <tr>\n      <th>0</th>\n      <td>1</td>\n      <td>7393090</td>\n      <td>59</td>\n      <td>19</td>\n      <td>0</td>\n      <td>0</td>\n      <td>0</td>\n      <td>0</td>\n      <td>4</td>\n      <td>13</td>\n    </tr>\n    <tr>\n      <th>1</th>\n      <td>2</td>\n      <td>1215004</td>\n      <td>25</td>\n      <td>5</td>\n      <td>0</td>\n      <td>0</td>\n      <td>0</td>\n      <td>1</td>\n      <td>5</td>\n      <td>10</td>\n    </tr>\n    <tr>\n      <th>2</th>\n      <td>3</td>\n      <td>8901342</td>\n      <td>50</td>\n      <td>12</td>\n      <td>0</td>\n      <td>0</td>\n      <td>0</td>\n      <td>2</td>\n      <td>9</td>\n      <td>14</td>\n    </tr>\n    <tr>\n      <th>3</th>\n      <td>4</td>\n      <td>1944421</td>\n      <td>49</td>\n      <td>9</td>\n      <td>1</td>\n      <td>0</td>\n      <td>1</td>\n      <td>3</td>\n      <td>3</td>\n      <td>12</td>\n    </tr>\n    <tr>\n      <th>4</th>\n      <td>5</td>\n      <td>13429</td>\n      <td>25</td>\n      <td>18</td>\n      <td>0</td>\n      <td>0</td>\n      <td>1</td>\n      <td>4</td>\n      <td>13</td>\n      <td>11</td>\n    </tr>\n  </tbody>\n</table>\n</div>"
     },
     "metadata": {},
     "execution_count": 4
    }
   ],
   "source": [
    "#importing prediction data\n",
    "test_data = pd.read_csv('../DATASETS/Hackathons/GH hackathon(april 16)/Test Data.csv')\n",
    "# obtaining a numeric representation of string columns\n",
    "test_data[\"profession\"]=pd.factorize(test_data.profession)[0]\n",
    "test_data[\"city\"]=pd.factorize(test_data.city)[0]\n",
    "test_data[\"state\"]=pd.factorize(test_data.state)[0]\n",
    "test_data[\"married\"]=pd.factorize(test_data.married)[0]\n",
    "test_data[\"house_ownership\"]=pd.factorize(test_data.house_ownership)[0]\n",
    "test_data[\"car_ownership\"]=pd.factorize(test_data.car_ownership)[0]\n",
    "test_data=test_data.drop(\"city\",axis=1)\n",
    "test_data=test_data.drop(\"state\",axis=1)\n",
    "test_data.head()"
   ]
  },
  {
   "cell_type": "code",
   "execution_count": 5,
   "metadata": {},
   "outputs": [],
   "source": [
    "#predicting the data fromn test data\n",
    "predictions = clf.predict(test_data)\n",
    "#writing the data to prediction.csv\n",
    "prediction = pd.DataFrame(predictions, columns=['risk_flag']).to_csv('../DATASETS/Hackathons/GH hackathon(april 16)/prediction.csv')"
   ]
  },
  {
   "cell_type": "code",
   "execution_count": null,
   "metadata": {},
   "outputs": [],
   "source": []
  }
 ]
}