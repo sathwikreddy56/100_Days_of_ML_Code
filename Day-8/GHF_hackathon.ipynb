{
 "metadata": {
  "language_info": {
   "codemirror_mode": {
    "name": "ipython",
    "version": 3
   },
   "file_extension": ".py",
   "mimetype": "text/x-python",
   "name": "python",
   "nbconvert_exporter": "python",
   "pygments_lexer": "ipython3",
   "version": "3.8.5"
  },
  "orig_nbformat": 2,
  "kernelspec": {
   "name": "python385jvsc74a57bd0916dbcbb3f70747c44a77c7bcd40155683ae19c65e1c03b4aa3499c5328201f1",
   "display_name": "Python 3.8.5 64-bit"
  },
  "metadata": {
   "interpreter": {
    "hash": "916dbcbb3f70747c44a77c7bcd40155683ae19c65e1c03b4aa3499c5328201f1"
   }
  }
 },
 "nbformat": 4,
 "nbformat_minor": 2,
 "cells": [
  {
   "source": [
    "import pandas as pd\n",
    "import seaborn as sns\n",
    "import numpy as np\n",
    "from matplotlib import pyplot as plt\n"
   ],
   "cell_type": "code",
   "metadata": {},
   "execution_count": 1,
   "outputs": []
  },
  {
   "cell_type": "code",
   "execution_count": 2,
   "metadata": {},
   "outputs": [
    {
     "output_type": "execute_result",
     "data": {
      "text/plain": [
       "   Id   income  age  experience  married  house_ownership  car_ownership  \\\n",
       "0   1  1303835   23           3        0                0              0   \n",
       "1   2  7574516   40          10        0                0              0   \n",
       "2   3  3991815   66           4        1                0              0   \n",
       "3   4  6256451   41           2        0                0              1   \n",
       "4   5  5768871   47          11        0                0              0   \n",
       "\n",
       "   profession  city  state  current_job_years  current_house_years  risk_flag  \n",
       "0           0     0      0                  3                   13          0  \n",
       "1           1     1      1                  9                   13          0  \n",
       "2           2     2      2                  4                   10          0  \n",
       "3           1     3      3                  2                   12          1  \n",
       "4           3     4      4                  3                   14          1  "
      ],
      "text/html": "<div>\n<style scoped>\n    .dataframe tbody tr th:only-of-type {\n        vertical-align: middle;\n    }\n\n    .dataframe tbody tr th {\n        vertical-align: top;\n    }\n\n    .dataframe thead th {\n        text-align: right;\n    }\n</style>\n<table border=\"1\" class=\"dataframe\">\n  <thead>\n    <tr style=\"text-align: right;\">\n      <th></th>\n      <th>Id</th>\n      <th>income</th>\n      <th>age</th>\n      <th>experience</th>\n      <th>married</th>\n      <th>house_ownership</th>\n      <th>car_ownership</th>\n      <th>profession</th>\n      <th>city</th>\n      <th>state</th>\n      <th>current_job_years</th>\n      <th>current_house_years</th>\n      <th>risk_flag</th>\n    </tr>\n  </thead>\n  <tbody>\n    <tr>\n      <th>0</th>\n      <td>1</td>\n      <td>1303835</td>\n      <td>23</td>\n      <td>3</td>\n      <td>0</td>\n      <td>0</td>\n      <td>0</td>\n      <td>0</td>\n      <td>0</td>\n      <td>0</td>\n      <td>3</td>\n      <td>13</td>\n      <td>0</td>\n    </tr>\n    <tr>\n      <th>1</th>\n      <td>2</td>\n      <td>7574516</td>\n      <td>40</td>\n      <td>10</td>\n      <td>0</td>\n      <td>0</td>\n      <td>0</td>\n      <td>1</td>\n      <td>1</td>\n      <td>1</td>\n      <td>9</td>\n      <td>13</td>\n      <td>0</td>\n    </tr>\n    <tr>\n      <th>2</th>\n      <td>3</td>\n      <td>3991815</td>\n      <td>66</td>\n      <td>4</td>\n      <td>1</td>\n      <td>0</td>\n      <td>0</td>\n      <td>2</td>\n      <td>2</td>\n      <td>2</td>\n      <td>4</td>\n      <td>10</td>\n      <td>0</td>\n    </tr>\n    <tr>\n      <th>3</th>\n      <td>4</td>\n      <td>6256451</td>\n      <td>41</td>\n      <td>2</td>\n      <td>0</td>\n      <td>0</td>\n      <td>1</td>\n      <td>1</td>\n      <td>3</td>\n      <td>3</td>\n      <td>2</td>\n      <td>12</td>\n      <td>1</td>\n    </tr>\n    <tr>\n      <th>4</th>\n      <td>5</td>\n      <td>5768871</td>\n      <td>47</td>\n      <td>11</td>\n      <td>0</td>\n      <td>0</td>\n      <td>0</td>\n      <td>3</td>\n      <td>4</td>\n      <td>4</td>\n      <td>3</td>\n      <td>14</td>\n      <td>1</td>\n    </tr>\n  </tbody>\n</table>\n</div>"
     },
     "metadata": {},
     "execution_count": 2
    }
   ],
   "source": [
    "#importing training data from the csv file\n",
    "train_data = pd.read_csv('../DATASETS/Hackathons/GH hackathon(april 16)/Training Data.csv')\n",
    "# obtaining a numeric representation of string columns\n",
    "train_data[\"profession\"]=pd.factorize(train_data.profession)[0]\n",
    "train_data[\"city\"]=pd.factorize(train_data.city)[0]\n",
    "train_data[\"state\"]=pd.factorize(train_data.state)[0]\n",
    "train_data[\"married\"]=pd.factorize(train_data.married)[0]\n",
    "train_data[\"house_ownership\"]=pd.factorize(train_data.house_ownership)[0]\n",
    "train_data[\"car_ownership\"]=pd.factorize(train_data.car_ownership)[0]\n",
    "train_data.head()"
   ]
  },
  {
   "cell_type": "code",
   "execution_count": 3,
   "metadata": {},
   "outputs": [],
   "source": [
    "#importing model \n",
    "from sklearn import tree\n",
    "from sklearn.ensemble import RandomForestClassifier\n",
    "#droping output field and creating input and outputs for training data \n",
    "xtrain=train_data.drop(\"risk_flag\",axis=1)\n",
    "ytrain=train_data[\"risk_flag\"]\n",
    "#initializing classifier\n",
    "clf = RandomForestClassifier(n_estimators=10)\n",
    "#fitting the model\n",
    "clf = clf.fit(xtrain, ytrain)"
   ]
  },
  {
   "cell_type": "code",
   "execution_count": 4,
   "metadata": {},
   "outputs": [
    {
     "output_type": "execute_result",
     "data": {
      "text/plain": [
       "   id   income  age  experience  married  house_ownership  car_ownership  \\\n",
       "0   1  7393090   59          19        0                0              0   \n",
       "1   2  1215004   25           5        0                0              0   \n",
       "2   3  8901342   50          12        0                0              0   \n",
       "3   4  1944421   49           9        1                0              1   \n",
       "4   5    13429   25          18        0                0              1   \n",
       "\n",
       "   profession  city  state  current_job_years  current_house_years  \n",
       "0           0     0      0                  4                   13  \n",
       "1           1     1      1                  5                   10  \n",
       "2           2     2      1                  9                   14  \n",
       "3           3     3      1                  3                   12  \n",
       "4           4     4      0                 13                   11  "
      ],
      "text/html": "<div>\n<style scoped>\n    .dataframe tbody tr th:only-of-type {\n        vertical-align: middle;\n    }\n\n    .dataframe tbody tr th {\n        vertical-align: top;\n    }\n\n    .dataframe thead th {\n        text-align: right;\n    }\n</style>\n<table border=\"1\" class=\"dataframe\">\n  <thead>\n    <tr style=\"text-align: right;\">\n      <th></th>\n      <th>id</th>\n      <th>income</th>\n      <th>age</th>\n      <th>experience</th>\n      <th>married</th>\n      <th>house_ownership</th>\n      <th>car_ownership</th>\n      <th>profession</th>\n      <th>city</th>\n      <th>state</th>\n      <th>current_job_years</th>\n      <th>current_house_years</th>\n    </tr>\n  </thead>\n  <tbody>\n    <tr>\n      <th>0</th>\n      <td>1</td>\n      <td>7393090</td>\n      <td>59</td>\n      <td>19</td>\n      <td>0</td>\n      <td>0</td>\n      <td>0</td>\n      <td>0</td>\n      <td>0</td>\n      <td>0</td>\n      <td>4</td>\n      <td>13</td>\n    </tr>\n    <tr>\n      <th>1</th>\n      <td>2</td>\n      <td>1215004</td>\n      <td>25</td>\n      <td>5</td>\n      <td>0</td>\n      <td>0</td>\n      <td>0</td>\n      <td>1</td>\n      <td>1</td>\n      <td>1</td>\n      <td>5</td>\n      <td>10</td>\n    </tr>\n    <tr>\n      <th>2</th>\n      <td>3</td>\n      <td>8901342</td>\n      <td>50</td>\n      <td>12</td>\n      <td>0</td>\n      <td>0</td>\n      <td>0</td>\n      <td>2</td>\n      <td>2</td>\n      <td>1</td>\n      <td>9</td>\n      <td>14</td>\n    </tr>\n    <tr>\n      <th>3</th>\n      <td>4</td>\n      <td>1944421</td>\n      <td>49</td>\n      <td>9</td>\n      <td>1</td>\n      <td>0</td>\n      <td>1</td>\n      <td>3</td>\n      <td>3</td>\n      <td>1</td>\n      <td>3</td>\n      <td>12</td>\n    </tr>\n    <tr>\n      <th>4</th>\n      <td>5</td>\n      <td>13429</td>\n      <td>25</td>\n      <td>18</td>\n      <td>0</td>\n      <td>0</td>\n      <td>1</td>\n      <td>4</td>\n      <td>4</td>\n      <td>0</td>\n      <td>13</td>\n      <td>11</td>\n    </tr>\n  </tbody>\n</table>\n</div>"
     },
     "metadata": {},
     "execution_count": 4
    }
   ],
   "source": [
    "#importing prediction data\n",
    "test_data = pd.read_csv('../DATASETS/Hackathons/GH hackathon(april 16)/Test Data.csv')\n",
    "# obtaining a numeric representation of string columns\n",
    "test_data[\"profession\"]=pd.factorize(test_data.profession)[0]\n",
    "test_data[\"city\"]=pd.factorize(test_data.city)[0]\n",
    "test_data[\"state\"]=pd.factorize(test_data.state)[0]\n",
    "test_data[\"married\"]=pd.factorize(test_data.married)[0]\n",
    "test_data[\"house_ownership\"]=pd.factorize(test_data.house_ownership)[0]\n",
    "test_data[\"car_ownership\"]=pd.factorize(test_data.car_ownership)[0]\n",
    "test_data.head()"
   ]
  },
  {
   "cell_type": "code",
   "execution_count": 5,
   "metadata": {},
   "outputs": [],
   "source": [
    "#predicting the data fromn test data\n",
    "predictions = clf.predict(test_data)\n",
    "#writing the data to prediction.csv\n",
    "prediction = pd.DataFrame(predictions, columns=['risk_flag']).to_csv('../DATASETS/Hackathons/GH hackathon(april 16)/prediction.csv')"
   ]
  },
  {
   "cell_type": "code",
   "execution_count": null,
   "metadata": {},
   "outputs": [],
   "source": []
  }
 ]
}