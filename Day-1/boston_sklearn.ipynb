{
 "metadata": {
  "language_info": {
   "codemirror_mode": {
    "name": "ipython",
    "version": 3
   },
   "file_extension": ".py",
   "mimetype": "text/x-python",
   "name": "python",
   "nbconvert_exporter": "python",
   "pygments_lexer": "ipython3",
   "version": "3.8.5"
  },
  "orig_nbformat": 2,
  "kernelspec": {
   "name": "python385jvsc74a57bd0e7370f93d1d0cde622a1f8e1c04877d8463912d04d973331ad4851f04de6915a",
   "display_name": "Python 3.8.5 64-bit"
  },
  "metadata": {
   "interpreter": {
    "hash": "e7370f93d1d0cde622a1f8e1c04877d8463912d04d973331ad4851f04de6915a"
   }
  }
 },
 "nbformat": 4,
 "nbformat_minor": 2,
 "cells": [
  {
   "cell_type": "code",
   "execution_count": null,
   "metadata": {},
   "outputs": [],
   "source": [
    "import pandas as pd\n",
    "import seaborn as sns\n",
    "import numpy as np\n",
    "from matplotlib import pyplot as plt\n"
   ]
  },
  {
   "cell_type": "code",
   "execution_count": null,
   "metadata": {},
   "outputs": [],
   "source": [
    "#importing data from the csv file\n",
    "data = pd.read_csv('/home/sathwik/Storage/100DaysOfCode/DATASETS/Linear Regression/Boston.csv')\n",
    "data.head()"
   ]
  },
  {
   "cell_type": "code",
   "execution_count": null,
   "metadata": {},
   "outputs": [],
   "source": [
    "#dataset cleaning\n",
    "data=data.drop(['Unnamed: 0'],axis=1)\n",
    "data.hist(figsize=(16, 20),xlabelsize=12, ylabelsize=12)"
   ]
  },
  {
   "cell_type": "code",
   "execution_count": null,
   "metadata": {},
   "outputs": [],
   "source": [
    "cor=data.corr()\n",
    "plt.figure(figsize=(20,10))\n",
    "sns.heatmap(cor[(cor >= 0.5) | (cor <= -0.4)],annot=True,cmap='Blues')"
   ]
  },
  {
   "cell_type": "code",
   "execution_count": null,
   "metadata": {},
   "outputs": [],
   "source": [
    "#finding corelation between columns of the data\n",
    "data.corr()['medv'][:-1]"
   ]
  },
  {
   "cell_type": "code",
   "execution_count": null,
   "metadata": {},
   "outputs": [],
   "source": [
    "'''\n",
    "positive corelation with\n",
    "    1.residential land zoned for lots over 25,000 sq.ft.                        0.36 \n",
    "    2.average number of rooms per housing                                       0.69    **\n",
    "    3.weighted distances to five Boston employment centres                      0.24\n",
    "    4.proportion of blacks by town                                              0.33\n",
    "negative proportion with\n",
    "    1.per capita crime rate by town                                            -0.38\n",
    "    2.proportion of non-retail business acres per town                         -0.48\n",
    "    3.nitric oxides concentration                                              -0.42\n",
    "    4.proportion of owner-occupied units built prior to 1940                   -0.37\n",
    "    5.index of accessibility to radial highways                                -0.38\n",
    "    6.full-value property-tax rate per $10,000                                 -0.46\n",
    "    7.pupil-teacher ratio by town                                              -0.50\n",
    "    8.% lower status of the population                                         -0.73     **\n",
    "\n",
    "considerable columns = RM,LSTAT\n",
    "'''\n"
   ]
  },
  {
   "cell_type": "code",
   "execution_count": 37,
   "metadata": {},
   "outputs": [
    {
     "output_type": "stream",
     "name": "stdout",
     "text": [
      "(404, 13) (404,)\n(102, 13) (102,)\n"
     ]
    }
   ],
   "source": [
    "#prepating testing and training dataset\n",
    "y=data['medv']\n",
    "# x=data['lstat']\n",
    "# x=pd.DataFrame({'lstat': data['lstat'], 'rm':data['rm'],'tax':data['tax'],'indus':data['indus'],'nox':data['nox'],'ptratio':data['ptratio'],\n",
    "# })\n",
    "#'zn':data['zn']\n",
    "\n",
    "x=data.drop('medv',axis=1)\n",
    "#splittign the dataset\n",
    "from sklearn.model_selection import train_test_split\n",
    "x_train,x_test,y_train,y_test=train_test_split(x,y,test_size=0.2)\n",
    "#check size\n",
    "print (x_train.shape,y_train.shape)\n",
    "print (x_test.shape,y_test.shape)\n",
    "\n"
   ]
  },
  {
   "cell_type": "code",
   "execution_count": null,
   "metadata": {},
   "outputs": [],
   "source": [
    "#import model\n",
    "from sklearn.linear_model import LinearRegression\n",
    "#training the model\n",
    "linear_reg=LinearRegression()\n",
    "linear_reg.fit(x_train,y_train)\n",
    "#predicting the datset values\n",
    "y_pred = linear_reg.predict(x_test)\n"
   ]
  },
  {
   "cell_type": "code",
   "execution_count": null,
   "metadata": {},
   "outputs": [],
   "source": [
    "plt.scatter(y_test, y_pred) "
   ]
  },
  {
   "cell_type": "code",
   "execution_count": null,
   "metadata": {},
   "outputs": [],
   "source": [
    "from sklearn.metrics import mean_squared_error \n",
    "mse = mean_squared_error(y_test, y_pred) \n",
    "print(\"Mean Square Error : \", mse) "
   ]
  },
  {
   "cell_type": "code",
   "execution_count": null,
   "metadata": {},
   "outputs": [],
   "source": [
    "df1 = pd.DataFrame({'Actual': y_test, 'Predicted':y_pred})\n",
    "df2 = df1.head(10)\n",
    "df2"
   ]
  },
  {
   "cell_type": "code",
   "execution_count": null,
   "metadata": {},
   "outputs": [],
   "source": [
    "from sklearn import metrics\n",
    "from sklearn.metrics import r2_score\n",
    "print('MAE', metrics.mean_absolute_error(y_test, y_pred))\n",
    "print('MSE', metrics.mean_squared_error(y_test, y_pred))\n",
    "print('RMSE', np.sqrt(metrics.mean_squared_error(y_test, y_pred)))\n",
    "print('R squared error', r2_score(y_test, y_pred))\n",
    "\n",
    "#65% avg"
   ]
  },
  {
   "cell_type": "code",
   "execution_count": null,
   "metadata": {},
   "outputs": [],
   "source": []
  }
 ]
}